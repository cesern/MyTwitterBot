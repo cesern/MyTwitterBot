{
 "cells": [
  {
   "cell_type": "markdown",
   "metadata": {},
   "source": [
    "# Tutorial for usying tweetpy"
   ]
  },
  {
   "cell_type": "markdown",
   "metadata": {},
   "source": [
    "## Using the file key.py to autenticate my user to the Twitter API "
   ]
  },
  {
   "cell_type": "code",
   "execution_count": 1,
   "metadata": {
    "collapsed": false
   },
   "outputs": [],
   "source": [
    "import tweepy\n",
    "from key import *\n",
    "auth = tweepy.OAuthHandler(ConsumerKey,ConsumerSecret)\n",
    "auth.set_access_token(AccessToken, AccessTokenSecret)\n",
    "api = tweepy.API(auth)\n"
   ]
  },
  {
   "cell_type": "markdown",
   "metadata": {},
   "source": [
    "## Twitting one sentence"
   ]
  },
  {
   "cell_type": "code",
   "execution_count": 2,
   "metadata": {
    "collapsed": false
   },
   "outputs": [],
   "source": [
    "#api.update_status(\"AI = Deep Learning\")\n"
   ]
  },
  {
   "cell_type": "markdown",
   "metadata": {},
   "source": [
    "## Printing tweets from timeline"
   ]
  },
  {
   "cell_type": "code",
   "execution_count": 3,
   "metadata": {
    "collapsed": false
   },
   "outputs": [
    {
     "name": "stdout",
     "output_type": "stream",
     "text": [
      "RT @zseward: The most common grade with which students graduate high school in the US is now an A. https://t.co/jHxK6AHWPv\n",
      "The Irish are oppressively friendly. I love it. https://t.co/bLMI6pyWaG\n",
      "@JamesWillems @FuriousPete @TheMilesLuna Not yo\n",
      "u too\n",
      "RT @Dylan27Fox: This makes my day! @bdunkelman @IAmLindsayJones #RWBY https://t.co/HPSJaSul9W\n",
      "*casually buys a ring light to take better nudes*\n",
      "🙌💕NYC💕🙌 https://t.co/yeaqP6vygu\n",
      "The functioning of this man's own body—heartbeat included—could be used against him in an upcoming trial https://t.co/ACPVl6mW2J\n",
      "sex is not a industrial conglomerate properties #caldeiraodohuck #PonMúsicaY #RomanceAHorrorFilm #NationalLipstickDay #screenshotsaturday\n",
      "RT @CarrieNKat: Cada día estoy más enamorada de lo que haces @Criisalys ¡Muchas gracias! 🍓 https://t.co/A02pZBC83F\n",
      "RT @LVGHSTmusic: step 2. @Criisalys \n",
      "\n",
      "------\n",
      "\n",
      "https://t.co/1Ugu3yhyL2 https://t.co/Tfs7bNWX70\n",
      "Thanks Brosssss https://t.co/xj4EeELGRi\n",
      "It's \"would you ever RIDE A WAVE with me\"🌊🌊🌊\n",
      "RT @Pinboard: If you are wondering why Elon Musk is debating Zuckerberg about fairy tales, I gave a talk that explains AI religion https://…\n",
      "Bitmoji saved my life https://t.co/yvlt9mukpl\n",
      "RT @egrefen: What f***ing trashy excuse of a journalist writes this sh***y sensationalist s***? DO YOU GUYS NOT HAVE EDITORS??\n",
      "https://t.co…\n",
      "\"No!\" https://t.co/jHXvIyiTRP\n",
      "RT @metkis: Having fun trying to do a proper paper-like thing, not perfect, but fun. https://t.co/w7qZSpPfbt\n",
      "“The dialogue is just excruciatingly bad.” https://t.co/GbFEVmZZ9T\n",
      "Everybody's gotta be somewhere. https://t.co/4wd5Y4tlim\n",
      "Looking forward to watching my latest download!  @DougBenson https://t.co/NOX5sAn2ha\n"
     ]
    }
   ],
   "source": [
    "public_tweets = api.home_timeline()\n",
    "for tweet in public_tweets:\n",
    "    print(tweet.text)"
   ]
  },
  {
   "cell_type": "markdown",
   "metadata": {},
   "source": [
    "## Complete List of People that I follow"
   ]
  },
  {
   "cell_type": "code",
   "execution_count": 19,
   "metadata": {
    "collapsed": false
   },
   "outputs": [
    {
     "name": "stdout",
     "output_type": "stream",
     "text": [
      "I follow 168 people\n"
     ]
    }
   ],
   "source": [
    "Ifollow = api.friends_ids()\n",
    "print(\"I follow {} people\".format(len(Ifollow)))"
   ]
  },
  {
   "cell_type": "markdown",
   "metadata": {},
   "source": [
    "## Complete list of my followers"
   ]
  },
  {
   "cell_type": "code",
   "execution_count": 16,
   "metadata": {
    "collapsed": false
   },
   "outputs": [
    {
     "name": "stdout",
     "output_type": "stream",
     "text": [
      "I have 36 followers\n"
     ]
    }
   ],
   "source": [
    "followers = api.followers_ids()\n",
    "print(\"I have {} followers\".format(len(followers)))"
   ]
  },
  {
   "cell_type": "markdown",
   "metadata": {},
   "source": [
    "## Who follow me back\n"
   ]
  },
  {
   "cell_type": "code",
   "execution_count": 7,
   "metadata": {
    "collapsed": false
   },
   "outputs": [
    {
     "name": "stdout",
     "output_type": "stream",
     "text": [
      "The number of people that follow me back is 5\n"
     ]
    }
   ],
   "source": [
    "FollowBack = list(set(followers).intersection(set(Ifollow)))\n",
    "print(\"The number of people that follow me back is {}\".format(len(FollowBack)))"
   ]
  },
  {
   "cell_type": "markdown",
   "metadata": {},
   "source": [
    "# Script to unfollow everybody except the people in the list \"RealFriends\""
   ]
  },
  {
   "cell_type": "code",
   "execution_count": 8,
   "metadata": {
    "collapsed": false
   },
   "outputs": [],
   "source": [
    "def clean_followers(friends, Realfriends):\n",
    "    for friend in friends:\n",
    "        if friend not in Realfriends:\n",
    "            api.destroy_friendship(friend)"
   ]
  },
  {
   "cell_type": "code",
   "execution_count": 9,
   "metadata": {
    "collapsed": false
   },
   "outputs": [],
   "source": [
    "clean_followers(Ifollow, RealFriends)"
   ]
  },
  {
   "cell_type": "code",
   "execution_count": 10,
   "metadata": {
    "collapsed": false
   },
   "outputs": [],
   "source": [
    "Ifollow = api.friends_ids()\n",
    "assert 138 == len(Ifollow)"
   ]
  },
  {
   "cell_type": "markdown",
   "metadata": {},
   "source": [
    "## Popular trends"
   ]
  },
  {
   "cell_type": "code",
   "execution_count": 11,
   "metadata": {
    "collapsed": false
   },
   "outputs": [
    {
     "name": "stdout",
     "output_type": "stream",
     "text": [
      "#النصر_الزمالك\n",
      "#ForçaAbel\n",
      "Dani Alves\n",
      "#GERDEN\n",
      "#ErkeklerBirÇiçektir\n",
      "#NationalLipstickDay\n",
      "Renan Ribeiro\n",
      "Tielemans\n",
      "Marcos Vinicius\n",
      "Yılmaz Büyükerşen'e\n",
      "Marcinho\n",
      "Dewey\n",
      "Areola\n",
      "#سعودي_يودع_الاسلام\n",
      "#FortBoyard\n",
      "#VamosLaU\n",
      "#غلطانه_واسفه_واحبك\n",
      "#YarınYenikapıda\n",
      "#29Jul\n",
      "#مليون_عاطل_نصهم_جامعيين\n",
      "#YoVotoPorLaANC\n",
      "#TheMaineNoRaul\n",
      "#مهرجانات_الارز_الدوليه\n",
      "#MichelBerger25AnsDeja\n",
      "#QuemQuerSerUmMilionario\n",
      "#ciaodarwin\n",
      "#PonMúsicaY\n",
      "#NEDSWE\n",
      "#RomanceAHorrorFilm\n",
      "#L6Nrajoydeclara\n",
      "#الحرمين_بيد_امينه\n",
      "#CasualtyOne\n",
      "#MontrealePrix\n",
      "#politicon2017\n",
      "#khitab\n",
      "#FelizSabado\n",
      "#MeArrepientoDe\n",
      "#YCuandoUnaMujerSeEnoja\n",
      "#KuranOkuAteistOl\n",
      "#شمس_شقيت_ثوبي٢٠١٧\n",
      "#العتيبه_يريد_السعوديه_علمانيه\n",
      "#AustinMahoneFtLudmilla\n",
      "#من_مظاهر_ادبك_مع_الله\n",
      "#Caldeirão\n",
      "#SuperFinalesxESPN\n",
      "#تاجيل_اجتماع_المنامه\n",
      "#FutbolEn5RTv\n",
      "#CambiandoJuntos\n",
      "#TheSoundOf_MakesMe\n",
      "#ParanınSatınAlamayacağıŞey\n"
     ]
    }
   ],
   "source": [
    "trends = api.trends_place(1)[0]['trends']\n",
    "TrendsNames = [trend['name'] for trend in trends]\n",
    "for trend in TrendsNames:\n",
    "    print(trend)"
   ]
  },
  {
   "cell_type": "code",
   "execution_count": null,
   "metadata": {
    "collapsed": true
   },
   "outputs": [],
   "source": []
  }
 ],
 "metadata": {
  "kernelspec": {
   "display_name": "Python 3",
   "language": "python",
   "name": "python3"
  },
  "language_info": {
   "codemirror_mode": {
    "name": "ipython",
    "version": 3
   },
   "file_extension": ".py",
   "mimetype": "text/x-python",
   "name": "python",
   "nbconvert_exporter": "python",
   "pygments_lexer": "ipython3",
   "version": "3.5.2"
  }
 },
 "nbformat": 4,
 "nbformat_minor": 1
}
